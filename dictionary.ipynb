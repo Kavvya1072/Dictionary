{
 "cells": [
  {
   "cell_type": "code",
   "execution_count": 14,
   "id": "6404a907",
   "metadata": {},
   "outputs": [
    {
     "name": "stdout",
     "output_type": "stream",
     "text": [
      "Enter the word you want to search: hjm\n",
      "did you mean ohm instead\n",
      "press y for yes or n for non\n",
      "Sorry you typed wrong keys:(\n"
     ]
    }
   ],
   "source": [
    "import json\n",
    "from difflib import get_close_matches\n",
    "\n",
    "data = json.load(open(\"data.json\"))\n",
    "\n",
    "def translate(word):\n",
    "    word = word.lower()\n",
    "    if word in data:\n",
    "        return data[word]\n",
    "    elif word.title() in data:\n",
    "        return data[word.title()]\n",
    "    elif word.upper() in data:\n",
    "        return data[word.upper()]\n",
    "    elif len(get_close_matches(word , data.keys())) > 0 :\n",
    "        print(\"did you mean %s instead\" %get_close_matches(word, data.keys())[0])\n",
    "        decide = input(\"press y for yes or n for no\")\n",
    "        if decide == \"y\":\n",
    "            return data[get_close_matches(word , data.keys())[0]]\n",
    "        elif decide == \"n\":\n",
    "            return(\"Sorry you typed wrong keys:(\")\n",
    "        else:\n",
    "            return(\"You have entered wrong input please enter just y or n\")\n",
    "    else:\n",
    "        print(\"Sorry you typed wrong keys:(\")\n",
    "\n",
    "\n",
    "\n",
    "word = input(\"Enter the word you want to search: \")\n",
    "output = translate(word)\n",
    "if type(output) == list:\n",
    "    for item in output:\n",
    "        print(item)\n",
    "else:\n",
    "    print(output)\n"
   ]
  },
  {
   "cell_type": "code",
   "execution_count": null,
   "id": "4e77a48f",
   "metadata": {},
   "outputs": [],
   "source": []
  },
  {
   "cell_type": "code",
   "execution_count": null,
   "id": "36aaea45",
   "metadata": {},
   "outputs": [],
   "source": []
  }
 ],
 "metadata": {
  "kernelspec": {
   "display_name": "Python 3 (ipykernel)",
   "language": "python",
   "name": "python3"
  },
  "language_info": {
   "codemirror_mode": {
    "name": "ipython",
    "version": 3
   },
   "file_extension": ".py",
   "mimetype": "text/x-python",
   "name": "python",
   "nbconvert_exporter": "python",
   "pygments_lexer": "ipython3",
   "version": "3.10.9"
  }
 },
 "nbformat": 4,
 "nbformat_minor": 5
}
